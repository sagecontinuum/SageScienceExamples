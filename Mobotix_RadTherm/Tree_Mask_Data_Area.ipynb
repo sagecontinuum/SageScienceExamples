{
 "cells": [
  {
   "cell_type": "code",
   "execution_count": 1,
   "metadata": {},
   "outputs": [],
   "source": [
    "#Import Mods\n",
    "import pandas as pd\n",
    "import numpy as np\n",
    "\n",
    "import glob\n",
    "\n",
    "import matplotlib.pyplot as plt\n",
    "\n",
    "import act\n",
    "import metpy.calc as mpcalc\n",
    "from metpy.units import units\n",
    "\n",
    "from datetime import datetime\n",
    "from datetime import timedelta\n",
    "\n",
    "from PIL import Image, ImageDraw"
   ]
  },
  {
   "cell_type": "code",
   "execution_count": 2,
   "metadata": {},
   "outputs": [],
   "source": [
    "#grab sinlge image used to create the mask\n",
    "file = pd.read_csv(\"/lcrc/project/waggle/public_html/private/training_data/waggle_area510/mobotix/\"\n",
    "                \"thermal/1618803166_000001_right_336x252_14bit.thermal.celsius.csv\")"
   ]
  },
  {
   "cell_type": "code",
   "execution_count": 3,
   "metadata": {},
   "outputs": [],
   "source": [
    "#Create image list by unpacking data from CSV and placing in correct spot.\n",
    "image_array = []\n",
    "\n",
    "for i in range(file.size):\n",
    "    if i >= 6:\n",
    "        data = file.values[i][0]\n",
    "        data = data.split(';')\n",
    "        array = np.array(data)\n",
    "        array = array.astype(np.float)\n",
    "        image_array.append(array)\n",
    "        "
   ]
  },
  {
   "cell_type": "code",
   "execution_count": 4,
   "metadata": {},
   "outputs": [],
   "source": [
    "#Create first mask list with threshold value.\n",
    "mask_col1 = []\n",
    "count = 0\n",
    "\n",
    "for j in image_array:\n",
    "    mask_row = []\n",
    "    \n",
    "    for k in range(len(j)):\n",
    "        \n",
    "        if k > 40 and k < 110:\n",
    "        \n",
    "            if count > 40 and count < 90:\n",
    "                if j[k] > 7:\n",
    "                    mask_row.append(1)\n",
    "                else:\n",
    "                    mask_row.append(0)\n",
    "\n",
    "            else:\n",
    "                 mask_row.append(0)\n",
    "        else:\n",
    "             mask_row.append(0)\n",
    "                \n",
    "    mask_col1.append(mask_row)\n",
    "    count = count + 1"
   ]
  },
  {
   "cell_type": "code",
   "execution_count": 5,
   "metadata": {},
   "outputs": [],
   "source": [
    "#Create second mask list with threshold value.\n",
    "mask_col2 = []\n",
    "count = 0\n",
    "\n",
    "for j in image_array:\n",
    "    mask_row = []\n",
    "    \n",
    "    for k in range(len(j)):\n",
    "        \n",
    "        if k > 250 and k < 300:\n",
    "        \n",
    "            if count > 50 and count < 100:\n",
    "                if j[k] > 5:\n",
    "                    mask_row.append(1)\n",
    "                else:\n",
    "                    mask_row.append(0)\n",
    "\n",
    "            else:\n",
    "                 mask_row.append(0)\n",
    "        else:\n",
    "             mask_row.append(0)\n",
    "                \n",
    "    mask_col2.append(mask_row)\n",
    "    count = count + 1"
   ]
  },
  {
   "cell_type": "code",
   "execution_count": 6,
   "metadata": {},
   "outputs": [],
   "source": [
    "#create mask array and a find x-y values of for desired area\n",
    "mask_array1 = np.array(mask_col1)\n",
    "x1, y1 = np.nonzero(mask_array1)\n",
    "\n",
    "\n",
    "mask_array2 = np.array(mask_col2)\n",
    "x2, y2 = np.nonzero(mask_array2)"
   ]
  },
  {
   "cell_type": "code",
   "execution_count": 7,
   "metadata": {},
   "outputs": [
    {
     "data": {
      "image/png": "[encoded data removed]",
      "text/plain": [
       "<PIL.Image.Image image mode=L size=336x252 at 0x2B73E94431F0>"
      ]
     },
     "execution_count": 7,
     "metadata": {},
     "output_type": "execute_result"
    }
   ],
   "source": [
    "#Create image with with mask array\n",
    "#This shape is a rectangle given the top left corner and botttom right corner\n",
    "#shape1 = [(40, 40), (110, 90)]\n",
    "\n",
    "shape2 = [(250, 50), (300, 100)]\n",
    "\n",
    "#Tranform list into array and convert all true values from 1 to 255 as well as use an unsigned 8-bit integer dtype.\n",
    "array = np.array(mask_col2).astype('uint8')*255\n",
    "\n",
    "#create image\n",
    "im = Image.fromarray(array)\n",
    "\n",
    "#img1 = ImageDraw.Draw(im)\n",
    "#img1.rectangle(shape2, fill = 150 , outline =\"red\")\n",
    "im"
   ]
  },
  {
   "cell_type": "code",
   "execution_count": 8,
   "metadata": {},
   "outputs": [
    {
     "name": "stdout",
     "output_type": "stream",
     "text": [
      "Downloading: LOT\n"
     ]
    }
   ],
   "source": [
    "#Grab ASOS data from nearest station.\n",
    "time_window = [datetime(2021, 4, 16, 0, 0), datetime(2021, 4, 24, 3, 0)]\n",
    "my_asoses = act.discovery.get_asos(time_window, station = 'LOT')\n",
    "station = my_asoses['LOT']"
   ]
  },
  {
   "cell_type": "code",
   "execution_count": 9,
   "metadata": {},
   "outputs": [],
   "source": [
    "#Save off data that be used later\n",
    "tempsf = station.tmpf.values\n",
    "dewpsf = station.dwpf.values\n",
    "time = station.time.values"
   ]
  },
  {
   "cell_type": "code",
   "execution_count": 10,
   "metadata": {},
   "outputs": [],
   "source": [
    "#Grab files from directory and sort them into correct order\n",
    "files = []\n",
    "for filename in glob.glob(\"/lcrc/project/waggle/public_html/private/training_data/waggle_area510/mobotix/thermal/\"\n",
    "                          \"*.thermal.celsius.csv\"):\n",
    "    files.append(filename)\n",
    "files.sort()"
   ]
  },
  {
   "cell_type": "code",
   "execution_count": 11,
   "metadata": {},
   "outputs": [],
   "source": [
    "#Run through all images and save off average temperature for each\n",
    "temp_avg1 = []\n",
    "temp_avg2 = []\n",
    "image_count = []\n",
    "image_time = []\n",
    "\n",
    "\n",
    "for path in files:\n",
    "    file = pd.read_csv(path)\n",
    "    image_time.append(datetime.fromtimestamp(int(path[86:96])) + timedelta(hours = 5))\n",
    "    image_array = []\n",
    "    \n",
    "    \n",
    "    for i in range(file.size):\n",
    "        if i >= 6:\n",
    "            data = file.values[i][0]\n",
    "            data = data.split(';')\n",
    "            array = np.array(data)\n",
    "            array = array.astype(np.float)\n",
    "            image_array.append(array)\n",
    "            \n",
    "    image_array = np.array(image_array)\n",
    "    \n",
    "    temp_avg1.append(np.mean(image_array[x1, y1]))\n",
    "    temp_avg2.append(np.mean(image_array[x2, y2]))"
   ]
  },
  {
   "cell_type": "code",
   "execution_count": 12,
   "metadata": {},
   "outputs": [],
   "source": [
    "#Convert units from Celsius to Fahrenheit\n",
    "temp_avgc1 = temp_avg1 * units.celsius\n",
    "temp_avgf1 = temp_avgc1.to(units.fahrenheit)\n",
    "\n",
    "temp_avgc2 = temp_avg2 * units.celsius\n",
    "temp_avgf2 = temp_avgc2.to(units.fahrenheit)"
   ]
  },
  {
   "cell_type": "code",
   "execution_count": 13,
   "metadata": {},
   "outputs": [
    {
     "data": {
      "text/plain": [
       "<matplotlib.legend.Legend at 0x2b73e9b83370>"
      ]
     },
     "execution_count": 13,
     "metadata": {},
     "output_type": "execute_result"
    },
    {
     "data": {
      "image/png": "[encoded data removed]",
      "text/plain": [
       "<Figure size 432x288 with 1 Axes>"
      ]
     },
     "metadata": {
      "needs_background": "light"
     },
     "output_type": "display_data"
    }
   ],
   "source": [
    "#Plot time series\n",
    "plt.plot(image_time, temp_avgf1, color = 'red')\n",
    "#plt.plot(image_time, temp_avgf2, color = 'blue')\n",
    "plt.plot(time, tempsf, color='black')\n",
    "\n",
    "plt.xlabel('Time (UTC)')\n",
    "plt.xticks(time[np.arange(0, len(time), 144)])\n",
    "plt.ylabel('Temperature (F)')\n",
    "\n",
    "plt.title('Thermal Camera Tree Temperature Comparison with KLOT ASOS')\n",
    "\n",
    "# Create a custom legend\n",
    "plt.legend(['Area 1', 'KLOT'], loc = 'upper center')\n",
    "\n",
    "\n",
    "#plt.savefig('Thermal_ASOS_Comparison_tree.png', transparent='true')"
   ]
  },
  {
   "cell_type": "code",
   "execution_count": null,
   "metadata": {},
   "outputs": [],
   "source": []
  }
 ],
 "metadata": {
  "kernelspec": {
   "display_name": "Python 3",
   "language": "python",
   "name": "python3"
  },
  "language_info": {
   "codemirror_mode": {
    "name": "ipython",
    "version": 3
   },
   "file_extension": ".py",
   "mimetype": "text/x-python",
   "name": "python",
   "nbconvert_exporter": "python",
   "pygments_lexer": "ipython3",
   "version": "3.8.5"
  }
 },
 "nbformat": 4,
 "nbformat_minor": 4
}
