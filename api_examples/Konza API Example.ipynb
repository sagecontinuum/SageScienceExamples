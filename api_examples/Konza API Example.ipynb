{
 "cells": [
  {
   "cell_type": "code",
   "execution_count": null,
   "id": "7599c8d2",
   "metadata": {},
   "outputs": [],
   "source": [
    "import numpy as np\n",
    "from matplotlib import pyplot as plt\n",
    "from matplotlib import colors\n",
    "import xarray as xr\n",
    "import pandas as pd\n",
    "import csv\n",
    "import subprocess\n",
    "import os\n",
    "import sage_data_client\n",
    "import urllib\n",
    "import tempfile\n",
    "from xmovie import Movie\n",
    "import cftime\n",
    "\n",
    "\n",
    "%matplotlib inline"
   ]
  },
  {
   "cell_type": "code",
   "execution_count": null,
   "id": "ca415470",
   "metadata": {},
   "outputs": [],
   "source": [
    "# https://portal.sagecontinuum.org/data-browser?nodes=W038&window=d&apps=air-quality%3A0.2.0"
   ]
  },
  {
   "cell_type": "code",
   "execution_count": null,
   "id": "ce136bd0",
   "metadata": {},
   "outputs": [],
   "source": [
    "dfaq = sage_data_client.query(\n",
    "    start=\"2022-04-15 19:00\", end=\"2022-04-15 23:55\",\n",
    "    filter={\n",
    "        \"name\": \"env.air_quality.conc\",\n",
    "        'vsn' : 'W038'\n",
    "    }\n",
    ")"
   ]
  },
  {
   "cell_type": "code",
   "execution_count": null,
   "id": "31b7bbe6",
   "metadata": {},
   "outputs": [],
   "source": []
  },
  {
   "cell_type": "code",
   "execution_count": null,
   "id": "c2db6de4",
   "metadata": {},
   "outputs": [],
   "source": []
  },
  {
   "cell_type": "code",
   "execution_count": null,
   "id": "aa9b6246",
   "metadata": {},
   "outputs": [],
   "source": [
    "dfaq['timestamp'] = pd.to_datetime(dfaq['timestamp'])\n",
    "dfaq = dfaq.set_index('timestamp')"
   ]
  },
  {
   "cell_type": "code",
   "execution_count": null,
   "id": "eeb93041",
   "metadata": {},
   "outputs": [],
   "source": [
    "my_fig = plt.figure(figsize=[15,5])\n",
    "dfaq.value[\"2022-04-15 20:00\":\"2022-04-15 23:55\"].plot()\n",
    "plt.ylabel('PM2.5 mg/m$^3$')"
   ]
  },
  {
   "cell_type": "code",
   "execution_count": null,
   "id": "1330fc46",
   "metadata": {},
   "outputs": [],
   "source": [
    "#Thermal Camera"
   ]
  },
  {
   "cell_type": "code",
   "execution_count": null,
   "id": "fa21dd11",
   "metadata": {},
   "outputs": [],
   "source": [
    "df = sage_data_client.query(\n",
    "    start=\"2022-04-15 19:00\", end=\"2022-04-15 23:55\",\n",
    "    filter={\n",
    "        \"plugin\": \"mobotix-sampler.*\",\n",
    "        \"vsn\" : \"V008\"\n",
    "    }\n",
    ")\n",
    "\n",
    "targets = []\n",
    "times = []\n",
    "for i in range(len(df)):\n",
    "    if 'celsius' in df.iloc[i].value:\n",
    "        targets.append(df.iloc[i].value)\n",
    "        times.append(df.iloc[i].timestamp)\n"
   ]
  },
  {
   "cell_type": "code",
   "execution_count": null,
   "id": "54f51f47",
   "metadata": {},
   "outputs": [],
   "source": [
    "df.iloc[-9210]"
   ]
  },
  {
   "cell_type": "code",
   "execution_count": null,
   "id": "536d595a",
   "metadata": {},
   "outputs": [],
   "source": []
  },
  {
   "cell_type": "code",
   "execution_count": null,
   "id": "a7fe6ed2",
   "metadata": {},
   "outputs": [],
   "source": [
    "def read_mob_from_sage(url, datet):\n",
    "    tempf = tempfile.NamedTemporaryFile()\n",
    "    try:\n",
    "        urllib.request.urlretrieve(url, tempf.name)\n",
    "        head = []\n",
    "        with open(tempf.name, 'r') as f:\n",
    "            reader = csv.reader(f, delimiter=';')\n",
    "            for i in range(7):\n",
    "                headers = next(reader)\n",
    "                head.append(headers)\n",
    "            _ = next(reader)\n",
    "            data = np.expand_dims(np.flipud(np.array(list(reader)).astype(float)), axis=0)\n",
    "        print(data.shape)\n",
    "        tt = datet.to_pydatetime()\n",
    "        ctime = cftime.datetime(tt.year, tt.month, tt.day, hour=tt.hour, minute=tt.minute, second=tt.second)\n",
    "\n",
    "        ds = xr.Dataset({\n",
    "        'thermalimage': xr.DataArray(\n",
    "                    data   = data,   # enter data here\n",
    "                    dims   = ['time', 'y', 'x'],\n",
    "                    coords = {'time': [ctime],\n",
    "                             'y' : np.arange(data.shape[1]),\n",
    "                             'x' : np.arange(data.shape[2])},\n",
    "                    attrs  = {\n",
    "                        '_FillValue': -999.9,\n",
    "                        'units'     : 'celsius'\n",
    "                        }\n",
    "                    ),\n",
    "                },\n",
    "            attrs = {'Source': 'MOBOTIX M16 camera operated by Sage',\n",
    "                    'URL' : url}\n",
    "        )\n",
    "    except urllib.error.HTTPError:\n",
    "        ds=\"ERROR\"\n",
    "    \n",
    "    return ds\n",
    "    "
   ]
  },
  {
   "cell_type": "code",
   "execution_count": null,
   "id": "c8df6933",
   "metadata": {},
   "outputs": [],
   "source": [
    "i = -1 #3000\n",
    "myxr = read_mob_from_sage(targets[i], times[i])"
   ]
  },
  {
   "cell_type": "code",
   "execution_count": null,
   "id": "dc2b3312",
   "metadata": {},
   "outputs": [],
   "source": []
  },
  {
   "cell_type": "code",
   "execution_count": null,
   "id": "7db48b54",
   "metadata": {},
   "outputs": [],
   "source": []
  }
 ],
 "metadata": {
  "kernelspec": {
   "display_name": "Python 3 (ipykernel)",
   "language": "python",
   "name": "python3"
  },
  "language_info": {
   "codemirror_mode": {
    "name": "ipython",
    "version": 3
   },
   "file_extension": ".py",
   "mimetype": "text/x-python",
   "name": "python",
   "nbconvert_exporter": "python",
   "pygments_lexer": "ipython3",
   "version": "3.7.8"
  }
 },
 "nbformat": 4,
 "nbformat_minor": 5
}
